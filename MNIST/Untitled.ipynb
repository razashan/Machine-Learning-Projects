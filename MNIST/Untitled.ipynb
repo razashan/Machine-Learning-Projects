{
 "cells": [
  {
   "cell_type": "markdown",
   "metadata": {},
   "source": [
    "# Convolutional Neural Network Model"
   ]
  },
  {
   "cell_type": "code",
   "execution_count": 1,
   "metadata": {},
   "outputs": [],
   "source": [
    "from tensorflow.keras.datasets import mnist\n",
    "from tensorflow.keras.models import Sequential\n",
    "from tensorflow.keras.layers import Dense, Dropout, Flatten\n",
    "from tensorflow.keras.layers import Conv2D, MaxPooling2D\n",
    "from tensorflow.keras import backend as K\n",
    "from tensorflow.keras.optimizers import Adam\n",
    "from matplotlib import pyplot as plt\n",
    "import numpy as np\n",
    "import random"
   ]
  },
  {
   "cell_type": "code",
   "execution_count": 2,
   "metadata": {},
   "outputs": [],
   "source": [
    "img_rows, img_cols = 28,28\n",
    "batch_size = 128\n",
    "num_classes = 10\n",
    "epochs = 10\n",
    "dropout = 0.5"
   ]
  },
  {
   "cell_type": "code",
   "execution_count": 3,
   "metadata": {},
   "outputs": [],
   "source": [
    "(X_train, y_train), (X_test,y_test) = mnist.load_data()\n",
    "orig_test = X_test"
   ]
  },
  {
   "cell_type": "code",
   "execution_count": 6,
   "metadata": {},
   "outputs": [
    {
     "data": {
      "image/png": "[encoded data removed]",
      "text/plain": [
       "<Figure size 432x288 with 1 Axes>"
      ]
     },
     "metadata": {
      "needs_background": "light"
     },
     "output_type": "display_data"
    }
   ],
   "source": [
    "index = random.randrange(1000)\n",
    "plt.imshow(orig_test[index],cmap ='gray')\n",
    "plt.title('Label: %d'% y_test[index])\n",
    "plt.show()"
   ]
  },
  {
   "cell_type": "code",
   "execution_count": 7,
   "metadata": {},
   "outputs": [
    {
     "name": "stdout",
     "output_type": "stream",
     "text": [
      "60000 train samples\n",
      "10000 test sample\n"
     ]
    }
   ],
   "source": [
    "if K.image_data_format()== 'channels_first':\n",
    "    X_train = X_train.reshape(X_train.shape[0],1,img_rows,img_cols)\n",
    "    X_test = X_test.reshape(X_test.shape[0],1,img_rows,img_cols)\n",
    "    input_shape = (1,img_rows,img_cols)\n",
    "else:\n",
    "    X_train = X_train.reshape(X_train.shape[0],img_rows,img_cols,1)\n",
    "    X_test = X_test.reshape(X_test.shape[0],img_rows,img_cols,1)\n",
    "    input_shape = (img_rows,img_cols,1)\n",
    "    \n",
    "X_train,X_test = X_train /255.0, X_test/255.0\n",
    "print(X_train.shape[0],'train samples')\n",
    "print(X_test.shape[0],'test sample')\n"
   ]
  },
  {
   "cell_type": "code",
   "execution_count": 8,
   "metadata": {},
   "outputs": [
    {
     "name": "stdout",
     "output_type": "stream",
     "text": [
      "Model: \"sequential\"\n",
      "_________________________________________________________________\n",
      "Layer (type)                 Output Shape              Param #   \n",
      "=================================================================\n",
      "conv2d (Conv2D)              (None, 26, 26, 32)        320       \n",
      "_________________________________________________________________\n",
      "conv2d_1 (Conv2D)            (None, 24, 24, 64)        18496     \n",
      "_________________________________________________________________\n",
      "max_pooling2d (MaxPooling2D) (None, 12, 12, 64)        0         \n",
      "_________________________________________________________________\n",
      "dropout (Dropout)            (None, 12, 12, 64)        0         \n",
      "_________________________________________________________________\n",
      "flatten (Flatten)            (None, 9216)              0         \n",
      "_________________________________________________________________\n",
      "dense (Dense)                (None, 128)               1179776   \n",
      "_________________________________________________________________\n",
      "dropout_1 (Dropout)          (None, 128)               0         \n",
      "_________________________________________________________________\n",
      "dense_1 (Dense)              (None, 10)                1290      \n",
      "=================================================================\n",
      "Total params: 1,199,882\n",
      "Trainable params: 1,199,882\n",
      "Non-trainable params: 0\n",
      "_________________________________________________________________\n"
     ]
    }
   ],
   "source": [
    "model = Sequential()\n",
    "model.add(Conv2D(32,kernel_size=(3,3),activation = 'relu',input_shape= input_shape))\n",
    "model.add(Conv2D(64,(3,3),activation='relu'))\n",
    "model.add(MaxPooling2D(pool_size=(2,2)))\n",
    "model.add(Dropout(dropout/2))\n",
    "model.add(Flatten())\n",
    "model.add(Dense(128,activation='relu'))\n",
    "model.add(Dropout(dropout))\n",
    "model.add(Dense(num_classes,activation='softmax'))\n",
    "model.summary()"
   ]
  },
  {
   "cell_type": "code",
   "execution_count": 9,
   "metadata": {},
   "outputs": [
    {
     "name": "stdout",
     "output_type": "stream",
     "text": [
      "Train on 60000 samples, validate on 10000 samples\n",
      "Epoch 1/10\n",
      "60000/60000 [==============================] - 158s 3ms/sample - loss: 0.2300 - accuracy: 0.9305 - val_loss: 0.0493 - val_accuracy: 0.9838\n",
      "Epoch 2/10\n",
      "60000/60000 [==============================] - 172s 3ms/sample - loss: 0.0831 - accuracy: 0.9756 - val_loss: 0.0368 - val_accuracy: 0.9870\n",
      "Epoch 3/10\n",
      "60000/60000 [==============================] - 163s 3ms/sample - loss: 0.0627 - accuracy: 0.9805 - val_loss: 0.0366 - val_accuracy: 0.9875\n",
      "Epoch 4/10\n",
      "60000/60000 [==============================] - 161s 3ms/sample - loss: 0.0523 - accuracy: 0.9838 - val_loss: 0.0291 - val_accuracy: 0.9894\n",
      "Epoch 5/10\n",
      "60000/60000 [==============================] - 163s 3ms/sample - loss: 0.0425 - accuracy: 0.9864 - val_loss: 0.0312 - val_accuracy: 0.9890\n",
      "Epoch 6/10\n",
      "60000/60000 [==============================] - 171s 3ms/sample - loss: 0.0380 - accuracy: 0.9877 - val_loss: 0.0301 - val_accuracy: 0.9898\n",
      "Epoch 7/10\n",
      "60000/60000 [==============================] - 168s 3ms/sample - loss: 0.0338 - accuracy: 0.9893 - val_loss: 0.0272 - val_accuracy: 0.9911\n",
      "Epoch 8/10\n",
      "60000/60000 [==============================] - 169s 3ms/sample - loss: 0.0300 - accuracy: 0.9898 - val_loss: 0.0260 - val_accuracy: 0.9913\n",
      "Epoch 9/10\n",
      "60000/60000 [==============================] - 167s 3ms/sample - loss: 0.0275 - accuracy: 0.9910 - val_loss: 0.0297 - val_accuracy: 0.9909\n",
      "Epoch 10/10\n",
      "60000/60000 [==============================] - 165s 3ms/sample - loss: 0.0238 - accuracy: 0.9921 - val_loss: 0.0273 - val_accuracy: 0.9922\n",
      "Test Loss: 0.027298176673950264\n",
      "Test Accuracy 0.9922\n"
     ]
    },
    {
     "data": {
      "image/png": "[encoded data removed]",
      "text/plain": [
       "<Figure size 432x288 with 1 Axes>"
      ]
     },
     "metadata": {
      "needs_background": "light"
     },
     "output_type": "display_data"
    }
   ],
   "source": [
    "model.compile(loss='sparse_categorical_crossentropy',optimizer=Adam(),metrics=['accuracy'])\n",
    "history = model.fit(X_train,y_train,batch_size=batch_size,epochs=epochs,verbose=1,validation_data=(X_test,y_test))\n",
    "score = model.evaluate(X_test,y_test,verbose = 0)\n",
    "print('Test Loss:',score[0])\n",
    "print('Test Accuracy',score[1])\n",
    "plt.plot(history.history['accuracy'])\n",
    "plt.plot(history.history['val_accuracy'])\n",
    "plt.title('Model accuracy')\n",
    "plt.ylabel('Accuracy')\n",
    "plt.xlabel('Epoch')\n",
    "plt.legend(['Train','Test'],loc='upper left')\n",
    "plt.show()"
   ]
  },
  {
   "cell_type": "code",
   "execution_count": 10,
   "metadata": {},
   "outputs": [],
   "source": [
    "predictions = model.predict(X_test)\n",
    "most_likely = predictions.argmax(1)"
   ]
  },
  {
   "cell_type": "code",
   "execution_count": 13,
   "metadata": {},
   "outputs": [
    {
     "data": {
      "image/png": "[encoded data removed]",
      "text/plain": [
       "<Figure size 432x288 with 1 Axes>"
      ]
     },
     "metadata": {
      "needs_background": "light"
     },
     "output_type": "display_data"
    }
   ],
   "source": [
    "index = random.randrange(1000)\n",
    "plt.title('Prediction: %d, label: %d'%(most_likely[index],y_test[index]))\n",
    "plt.imshow(orig_test[index],cmap='gray')\n",
    "plt.show()"
   ]
  },
  {
   "cell_type": "markdown",
   "metadata": {},
   "source": [
    "# Error Analysis"
   ]
  },
  {
   "cell_type": "code",
   "execution_count": 17,
   "metadata": {},
   "outputs": [
    {
     "data": {
      "image/png": "[encoded data removed]",
      "text/plain": [
       "<Figure size 432x288 with 1 Axes>"
      ]
     },
     "metadata": {
      "needs_background": "light"
     },
     "output_type": "display_data"
    },
    {
     "data": {
      "image/png": "[encoded data removed]",
      "text/plain": [
       "<Figure size 432x288 with 1 Axes>"
      ]
     },
     "metadata": {
      "needs_background": "light"
     },
     "output_type": "display_data"
    }
   ],
   "source": [
    "for i in range(10000):\n",
    "    index = random.randrange(10000)\n",
    "    if most_likely[index]!=y_test[index]:\n",
    "        break\n",
    "    \n",
    "plt.imshow(orig_test[index],cmap='gray')\n",
    "plt.title('Prediction %d, label: %d'%(most_likely[index],y_test[index]))\n",
    "plt.show()\n",
    "\n",
    "plt.bar(range(10),predictions[index],tick_label=range(10))\n",
    "plt.title('Prediction Values')\n",
    "plt.show()"
   ]
  },
  {
   "cell_type": "markdown",
   "metadata": {},
   "source": [
    "# Saving Trained Model"
   ]
  },
  {
   "cell_type": "code",
   "execution_count": 18,
   "metadata": {},
   "outputs": [
    {
     "name": "stderr",
     "output_type": "stream",
     "text": [
      "Using TensorFlow backend.\n"
     ]
    }
   ],
   "source": [
    "import keras\n",
    "from keras.datasets import mnist\n",
    "from keras.models import model_from_json\n",
    "from keras.layers import Dense, Dropout, Flatten\n",
    "from keras.optimizers import Adam\n",
    "from matplotlib import pyplot as plt\n",
    "import numpy as np\n",
    "import random"
   ]
  },
  {
   "cell_type": "code",
   "execution_count": 22,
   "metadata": {},
   "outputs": [],
   "source": [
    "model_structure = model.to_json()\n",
    "with open(\"model.json\", \"w\") as json_file:\n",
    "    json_file.write(model_structure)\n",
    "model.save_weights(\"weights.h5\")"
   ]
  },
  {
   "cell_type": "code",
   "execution_count": 23,
   "metadata": {},
   "outputs": [],
   "source": [
    "(x_train, y_train), (x_test,y_test) = mnist.load_data()\n",
    "orig_test = x_test\n",
    "x_train, x_test = x_train/255.0, x_test/255.0"
   ]
  },
  {
   "cell_type": "code",
   "execution_count": 25,
   "metadata": {},
   "outputs": [],
   "source": [
    "\n",
    "predictions = model.predict(X_test)\n",
    "most_likely = predictions.argmax(1)"
   ]
  },
  {
   "cell_type": "code",
   "execution_count": 26,
   "metadata": {},
   "outputs": [
    {
     "data": {
      "image/png": "[encoded data removed]",
      "text/plain": [
       "<Figure size 432x288 with 1 Axes>"
      ]
     },
     "metadata": {
      "needs_background": "light"
     },
     "output_type": "display_data"
    }
   ],
   "source": [
    "index = random.randrange(10000)\n",
    "plt.title('Prediction: %d, label: %d' % (most_likely[index], y_test[index]))\n",
    "plt.imshow(orig_test[index], cmap='gray')\n",
    "plt.show()"
   ]
  },
  {
   "cell_type": "code",
   "execution_count": 27,
   "metadata": {},
   "outputs": [
    {
     "data": {
      "image/png": "[encoded data removed]",
      "text/plain": [
       "<Figure size 432x288 with 1 Axes>"
      ]
     },
     "metadata": {
      "needs_background": "light"
     },
     "output_type": "display_data"
    },
    {
     "data": {
      "image/png": "[encoded data removed]",
      "text/plain": [
       "<Figure size 432x288 with 1 Axes>"
      ]
     },
     "metadata": {
      "needs_background": "light"
     },
     "output_type": "display_data"
    }
   ],
   "source": [
    "\n",
    "for i in range(10000):\n",
    "    index = random.randrange(10000)\n",
    "    if most_likely[index] != y_test[index]:\n",
    "        break\n",
    "\n",
    "plt.imshow(orig_test[index], cmap='gray')\n",
    "plt.title('Prediction: %d, label: %d' % (most_likely[index], y_test[index]))\n",
    "plt.show()\n",
    "\n",
    "plt.bar(range(10), predictions[index], tick_label=range(10))\n",
    "plt.title('Prediction values')\n",
    "plt.show()"
   ]
  },
  {
   "cell_type": "code",
   "execution_count": 28,
   "metadata": {},
   "outputs": [
    {
     "name": "stdout",
     "output_type": "stream",
     "text": [
      "Error rate: 0.78 %\n"
     ]
    }
   ],
   "source": [
    "total = 0.0\n",
    "misclassified = 0.0\n",
    "for i  in range(10000):\n",
    "    total +=1\n",
    "    if most_likely[i]!=y_test[i]:\n",
    "        misclassified +=1\n",
    "print('Error rate: %.2f %%'%(100.0*misclassified/total))"
   ]
  },
  {
   "cell_type": "code",
   "execution_count": null,
   "metadata": {},
   "outputs": [],
   "source": []
  }
 ],
 "metadata": {
  "kernelspec": {
   "display_name": "Python 3",
   "language": "python",
   "name": "python3"
  },
  "language_info": {
   "codemirror_mode": {
    "name": "ipython",
    "version": 3
   },
   "file_extension": ".py",
   "mimetype": "text/x-python",
   "name": "python",
   "nbconvert_exporter": "python",
   "pygments_lexer": "ipython3",
   "version": "3.7.4"
  }
 },
 "nbformat": 4,
 "nbformat_minor": 2
}
